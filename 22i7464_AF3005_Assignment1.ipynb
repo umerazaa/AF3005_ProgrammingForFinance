{
  "metadata": {
    "kernelspec": {
      "name": "python",
      "display_name": "Python (Pyodide)",
      "language": "python"
    },
    "language_info": {
      "codemirror_mode": {
        "name": "python",
        "version": 3
      },
      "file_extension": ".py",
      "mimetype": "text/x-python",
      "name": "python",
      "nbconvert_exporter": "python",
      "pygments_lexer": "ipython3",
      "version": "3.8"
    },
    "colab": {
      "provenance": []
    }
  },
  "nbformat_minor": 4,
  "nbformat": 4,
  "cells": [
    {
      "cell_type": "markdown",
      "source": "# **AF3005 – Programming for Finance**  \n\n---\n\n## **📘 Assignment 1: Smart Financial Management System**  \n\n📍 **FAST National University of Computer and Emerging Sciences (FAST-NUCES), Islamabad**  \n👨‍🏫 **Instructor:** Dr. Usama Arshad (Assistant Professor, FSM)  \n🎓 **Program:** BS Financial Technology (BSFT)  \n📅 **Semester:** Spring 2025  \n📌 **Sections:** BSFT06A, BSFT06B, BSFT06C  \n\n---\n\n## **🎯 Course Learning Outcomes (CLOs)**  \n- **CLO1:** Write Python programs to solve basic financial problems.  \n- **CLO2:** Perform data manipulation and analysis using Python libraries.  \n\n---\n\n\n\n\n\n\n\n\n\n\n\n",
      "metadata": {
        "id": "5SRLdaqmHtmP"
      }
    },
    {
      "cell_type": "markdown",
      "source": "\n# **🟢 Deadline: 15th February 2025**\n\n---\n\n",
      "metadata": {
        "id": "wXgvxhSVQXNz"
      }
    },
    {
      "cell_type": "markdown",
      "source": "## **📥 Submission Guidelines**\n- **File Format:** Submit your assignment as a Jupyter Notebook file (`.ipynb`).\n- **Naming Convention:** Use the format `[Your_regno]_AF3005_Assignment1.ipynb`.\n- **Submission Platform:** Upload your file to **Google Classroom** under the assigned submission.\n- **GitHub Repository:**\n  - Create a GitHub repository named `AF3005_ProgrammingForFinance`.\n  - Upload your `.ipynb` file.\n  - Ensure the repository is structured properly with a `README.md` explaining the implementation.\n  - The implementation must include `ipywidgets` for interactive elements.\n  - Share the GitHub repository link in Google Classroom submission with file.\n\n---\n\n---\n\n",
      "metadata": {
        "id": "mHDXP18hMn3A"
      }
    },
    {
      "cell_type": "markdown",
      "source": "# **🟢 Scenario: Smart Financial Management System [20 marks]**  \n\n\n---\n\n\nSecureBank wants to develop an **automated financial management system** using Python. Your task is to implement different financial operations step by step.\n\nThis system will:  \n✅ **Assess customer eligibility for loans.**  \n✅ **Classify investment portfolios based on risk.**  \n✅ **Automate loan repayment tracking.**  \n✅ **Monitor stock market trends and trigger alerts.**  \n✅ **Track currency exchange rates and suggest conversions.**  \n\nYour task is to **break down the requirements, write a structured plan, and implement the logic step by step** using **ipywidgets** for interactive user inputs.\n\n---\n\n",
      "metadata": {
        "id": "XEanO5EiLdC9"
      }
    },
    {
      "cell_type": "markdown",
      "source": "## **🟢 Part 1: Loan Eligibility & Interest Rate Calculation [4 marks]**  \n\n📌 **Requirement:**  \nSecureBank only approves loans if the **customer meets all eligibility criteria**. The system should:  \n✔ **Check if the customer is employed.**  \n✔ **Verify if the income is at least PKR 50,000.**  \n✔ **Check credit score:**  \n   - **750+ → 5% Interest Rate**  \n   - **650 - 749 → 8% Interest Rate**  \n   - **Below 650 → Loan Rejected**  \n✔ **If the applicant is unemployed, the loan is rejected immediately.**  \n\n### **Implementation Steps:**  \n🔹 **Step 1:** Structure the `if-elif-else` statements for this logic.  \n🔹 **Step 2:** Implement a Python program using **ipywidgets** for interactive user input (income, credit score, employment status) to decide whether the loan is approved or rejected.\n\n---",
      "metadata": {
        "id": "sIKHzkmkLYYM"
      }
    },
    {
      "cell_type": "code",
      "source": "# importing libraries\nimport ipywidgets as widgets\nfrom IPython.display import display\n\n#Input\nemployment_status = widgets.Dropdown(\n    options=['Yes', 'No'],\n    description='Employed:',\n)\n\nincome = widgets.IntText(\n    value=0,\n    description='Income (PKR):'\n)\n\ncredit_score = widgets.IntSlider(\n    value=700,\n    min=300,\n    max=850,\n    step=10,\n    description='Credit Score:'\n)\n\noutput = widgets.Output()\n\n#This the function to determine eligibility\ndef check_loan_eligibility(change):\n    with output:\n        output.clear_output()\n        emp_status = employment_status.value\n        user_income = income.value\n        score = credit_score.value\n\n        if emp_status == 'No':\n            print(\"Loan Rejected: Applicant is unemployed.\")\n        elif user_income < 50000:\n            print(\"Loan Rejected: Minimum income requirement not met.\")\n        elif score >= 750:\n            print(\"Loan Approved: Interest Rate is 5%\")\n        elif 650 <= score < 750:\n            print(\"Loan Approved: Interest Rate is 8%\")\n        else:\n            print(\"Loan Rejected: Credit score is too low.\")\n\n# Attach event listener\nemployment_status.observe(check_loan_eligibility, names='value')\nincome.observe(check_loan_eligibility, names='value')\ncredit_score.observe(check_loan_eligibility, names='value')\n\n# Display widgets\ndisplay(employment_status, income, credit_score, output)",
      "metadata": {
        "id": "JnoBYZkTKqRw",
        "trusted": true
      },
      "outputs": [
        {
          "ename": "<class 'ModuleNotFoundError'>",
          "evalue": "No module named 'ipywidgets'",
          "traceback": [
            "\u001b[0;31m---------------------------------------------------------------------------\u001b[0m",
            "\u001b[0;31mModuleNotFoundError\u001b[0m                       Traceback (most recent call last)",
            "Cell \u001b[0;32mIn[1], line 2\u001b[0m\n\u001b[1;32m      1\u001b[0m \u001b[38;5;66;03m# importing libraries\u001b[39;00m\n\u001b[0;32m----> 2\u001b[0m \u001b[38;5;28;01mimport\u001b[39;00m \u001b[38;5;21;01mipywidgets\u001b[39;00m \u001b[38;5;28;01mas\u001b[39;00m \u001b[38;5;21;01mwidgets\u001b[39;00m\n\u001b[1;32m      3\u001b[0m \u001b[38;5;28;01mfrom\u001b[39;00m \u001b[38;5;21;01mIPython\u001b[39;00m\u001b[38;5;21;01m.\u001b[39;00m\u001b[38;5;21;01mdisplay\u001b[39;00m \u001b[38;5;28;01mimport\u001b[39;00m display\n\u001b[1;32m      5\u001b[0m \u001b[38;5;66;03m#Input\u001b[39;00m\n",
            "\u001b[0;31mModuleNotFoundError\u001b[0m: No module named 'ipywidgets'"
          ],
          "output_type": "error"
        }
      ],
      "execution_count": 1
    },
    {
      "cell_type": "markdown",
      "source": "## **🟢 Part 2: Investment Risk Assessment [4 marks]**  \n\n📌 **Requirement:**  \nSecureBank offers **investment analysis services**. The system should evaluate a **portfolio of stocks** and classify the risk level based on stock returns:  \n✔ If **any stock has a negative return**, the portfolio is **High Risk**.  \n✔ If **all stocks have positive returns**, but at least one return is below 5%, classify as **Medium Risk**.  \n✔ If **all stock returns are 5% or above**, classify as **Low Risk**.  \n\n### **Implementation Steps:**  \n🔹 **Step 1:** Use loops to iterate through the list of stock returns.  \n🔹 **Step 2:** Implement `if-elif` conditions to classify the risk.  \n🔹 **Step 3:** Write a Python program using **ipywidgets** to allow users to **input stock returns interactively** and receive a risk assessment.\n\n---",
      "metadata": {
        "id": "s66ykZPwKmRL"
      }
    },
    {
      "cell_type": "code",
      "source": "import ipywidgets as widgets\nfrom IPython.display import display\n\n# Text input for stock returns (comma-separated)\nstock_returns_input = widgets.Text(\n    value=\"\",\n    placeholder=\"Enter stock returns (comma-separated)...\",\n    description=\"Returns:\",\n)\n\n# Button to assess risk\nrisk_button = widgets.Button(description=\"Assess Risk\")\n\n# Output area\noutput = widgets.Output()\n\n# Function to classify risk\ndef assess_risk(button):\n    with output:\n        output.clear_output()\n        \n        # Get stock returns from user input\n        try:\n            stock_returns = [float(x.strip()) for x in stock_returns_input.value.split(\",\") if x.strip()]\n        except ValueError:\n            print(\"Invalid input! Please enter numerical values separated by commas.\")\n            return\n\n        # Risk classification logic\n        if any(r < 0 for r in stock_returns):\n            risk_level = \"High Risk\"\n        elif all(r >= 0 for r in stock_returns) and any(r < 5 for r in stock_returns):\n            risk_level = \"Medium Risk\"\n        else:\n            risk_level = \"Low Risk\"\n\n        # Display result\n        print(f\"Portfolio Risk Level: {risk_level}\")\n\n# Attach function to button click\nrisk_button.on_click(assess_risk)\n\n# Display widgets\ndisplay(stock_returns_input, risk_button, output)\n",
      "metadata": {
        "id": "I6Mi2LbOKtym",
        "trusted": true
      },
      "outputs": [
        {
          "ename": "<class 'ModuleNotFoundError'>",
          "evalue": "No module named 'ipywidgets'",
          "traceback": [
            "\u001b[0;31m---------------------------------------------------------------------------\u001b[0m",
            "\u001b[0;31mModuleNotFoundError\u001b[0m                       Traceback (most recent call last)",
            "Cell \u001b[0;32mIn[2], line 1\u001b[0m\n\u001b[0;32m----> 1\u001b[0m \u001b[38;5;28;01mimport\u001b[39;00m \u001b[38;5;21;01mipywidgets\u001b[39;00m \u001b[38;5;28;01mas\u001b[39;00m \u001b[38;5;21;01mwidgets\u001b[39;00m\n\u001b[1;32m      2\u001b[0m \u001b[38;5;28;01mfrom\u001b[39;00m \u001b[38;5;21;01mIPython\u001b[39;00m\u001b[38;5;21;01m.\u001b[39;00m\u001b[38;5;21;01mdisplay\u001b[39;00m \u001b[38;5;28;01mimport\u001b[39;00m display\n\u001b[1;32m      4\u001b[0m \u001b[38;5;66;03m# Text input for stock returns (comma-separated)\u001b[39;00m\n",
            "\u001b[0;31mModuleNotFoundError\u001b[0m: No module named 'ipywidgets'"
          ],
          "output_type": "error"
        }
      ],
      "execution_count": 2
    },
    {
      "cell_type": "markdown",
      "source": "## **🟢 Part 3: Loan Repayment Tracker [4 marks]**  \n\n📌 **Requirement:**  \nCustomers who receive a loan should be able to track their **loan balance** as they make monthly payments. The system should:  \n✔ Start with an **initial loan balance** (e.g., PKR 500,000).  \n✔ Deduct a **fixed monthly payment** (e.g., PKR 25,000).  \n✔ Continue tracking until **loan balance reaches zero**.  \n✔ Display the remaining balance **after each payment**.  \n\n### **Implementation Steps:**  \n🔹 **Step 1:** Choose an appropriate loop (`for` or `while`).  \n🔹 **Step 2:** Ensure the loop **stops once the loan is fully paid**.  \n🔹 **Step 3:** Implement a Python program using **ipywidgets** to **simulate loan repayment interactively**.\n\n---",
      "metadata": {
        "id": "xTrlsvaZKhaQ"
      }
    },
    {
      "cell_type": "code",
      "source": "import ipywidgets as widgets\nfrom IPython.display import display\n\n# Loan amount input\nloan_amount = widgets.IntText(\n    value=500000,\n    description='Loan Amount:',\n)\n\n# Monthly payment input\nmonthly_payment = widgets.IntText(\n    value=25000,\n    description='Monthly Payment:',\n)\n\n# Button to start repayment tracking\nrepay_button = widgets.Button(description=\"Track Repayment\")\n\n# Output area\noutput = widgets.Output()\n\n# Function to track loan repayment\ndef track_repayment(button):\n    with output:\n        output.clear_output()\n        \n        balance = loan_amount.value\n        payment = monthly_payment.value\n        month = 1\n\n        if payment <= 0:\n            print(\"Error: Monthly payment must be greater than zero.\")\n            return\n        elif balance <= 0:\n            print(\"Error: Loan amount must be greater than zero.\")\n            return\n        \n        print(f\"Starting Loan Balance: PKR {balance}\")\n        \n        while balance > 0:\n            balance -= payment\n            balance = max(balance, 0)  # Ensure balance doesn't go negative\n            print(f\"Month {month}: Remaining Balance = PKR {balance}\")\n            month += 1\n\n# Attach function to button click\nrepay_button.on_click(track_repayment)\n\n# Display widgets\ndisplay(loan_amount, monthly_payment, repay_button, output)\n",
      "metadata": {
        "id": "h3V9vFDjKvGH",
        "trusted": true
      },
      "outputs": [
        {
          "ename": "<class 'ModuleNotFoundError'>",
          "evalue": "No module named 'ipywidgets'",
          "traceback": [
            "\u001b[0;31m---------------------------------------------------------------------------\u001b[0m",
            "\u001b[0;31mModuleNotFoundError\u001b[0m                       Traceback (most recent call last)",
            "Cell \u001b[0;32mIn[3], line 1\u001b[0m\n\u001b[0;32m----> 1\u001b[0m \u001b[38;5;28;01mimport\u001b[39;00m \u001b[38;5;21;01mipywidgets\u001b[39;00m \u001b[38;5;28;01mas\u001b[39;00m \u001b[38;5;21;01mwidgets\u001b[39;00m\n\u001b[1;32m      2\u001b[0m \u001b[38;5;28;01mfrom\u001b[39;00m \u001b[38;5;21;01mIPython\u001b[39;00m\u001b[38;5;21;01m.\u001b[39;00m\u001b[38;5;21;01mdisplay\u001b[39;00m \u001b[38;5;28;01mimport\u001b[39;00m display\n\u001b[1;32m      4\u001b[0m \u001b[38;5;66;03m# Loan amount input\u001b[39;00m\n",
            "\u001b[0;31mModuleNotFoundError\u001b[0m: No module named 'ipywidgets'"
          ],
          "output_type": "error"
        }
      ],
      "execution_count": 3
    },
    {
      "cell_type": "markdown",
      "source": "\n## **🟢 Part 4: Stock Price Monitoring and Trading Strategy [4 marks]**  \n\n📌 **Requirement:**  \nA stock trader wants to **track stock prices daily** and **sell when the price reaches PKR 200**. The system should:  \n✔ Iterate through a **list of stock prices**.  \n✔ **Skip missing stock data** (`None` values).  \n✔ Stop tracking **once the price reaches PKR 200**.  \n\n### **Implementation Steps:**  \n🔹 **Step 1:** Handle missing stock data using `continue`.  \n🔹 **Step 2:** Stop tracking once the stock hits the target price (`break`).  \n🔹 **Step 3:** Write a Python program using **ipywidgets** to **process stock prices interactively** and trigger alerts when conditions are met.\n\n---",
      "metadata": {
        "id": "3V72WRTcKc17"
      }
    },
    {
      "cell_type": "code",
      "source": "import ipywidgets as widgets\nfrom IPython.display import display\n\n# Stock prices input (comma-separated)\nstock_prices_input = widgets.Text(\n    value=\"\",\n    placeholder=\"Enter stock prices (comma-separated)...\",\n    description=\"Prices:\",\n)\n\n# Target price input\ntarget_price = widgets.IntText(\n    value=200,\n    description=\"Target Price:\"\n)\n\n# Button to start tracking\ntrack_button = widgets.Button(description=\"Track Prices\")\n\n# Output area\noutput = widgets.Output()\n\n# Function to track stock prices\ndef track_stock_prices(button):\n    with output:\n        output.clear_output()\n        \n        # Get stock prices from user input\n        try:\n            stock_prices = [float(x.strip()) if x.strip().lower() != 'none' else None \n                            for x in stock_prices_input.value.split(\",\")]\n        except ValueError:\n            print(\"Invalid input! Please enter numerical values or 'None' for missing data.\")\n            return\n\n        sell_price = target_price.value\n\n        print(f\"Tracking stock prices... Target sell price: PKR {sell_price}\\n\")\n        \n        for i, price in enumerate(stock_prices, start=1):\n            if price is None:\n                continue  # Skip missing data\n            \n            print(f\"Day {i}: Stock Price = PKR {price}\")\n            \n            if price >= sell_price:\n                print(f\"Alert! Stock price reached PKR {price}. Consider selling.\")\n                break  # Stop tracking when the target price is reached\n\n# Attach function to button click\ntrack_button.on_click(track_stock_prices)\n\n# Display widgets\ndisplay(stock_prices_input, target_price, track_button, output)\n",
      "metadata": {
        "id": "G4v6qt6GKwFN"
      },
      "outputs": [],
      "execution_count": null
    },
    {
      "cell_type": "markdown",
      "source": "\n## **🟢 Part 5: Currency Exchange Rate Tracker [4 marks]**  \n\n📌 **Requirement:**  \nSecureBank provides **real-time currency exchange tracking**. The system should:  \n✔ Start at **PKR 290/USD**.  \n✔ Increase by **1 PKR per day** until it reaches **PKR 300/USD**.  \n✔ Print exchange rates daily and stop when the **target rate is reached**.  \n\n### **Implementation Steps:**  \n🔹 **Step 1:** Choose a suitable loop (`for` or `while`).  \n🔹 **Step 2:** Stop the loop when the exchange rate reaches the target.  \n🔹 **Step 3:** Implement a Python program using **ipywidgets** to **track the currency exchange rate interactively**.\n\n---",
      "metadata": {
        "id": "lD82JT7-KXqK"
      }
    },
    {
      "cell_type": "code",
      "source": "import ipywidgets as widgets\nfrom IPython.display import display\n\n# Exchange rate input (starting value)\nstart_rate = widgets.IntText(\n    value=290,\n    description=\"Start Rate:\",\n)\n\n# Target rate input\ntarget_rate = widgets.IntText(\n    value=300,\n    description=\"Target Rate:\",\n)\n\n# Button to start tracking\ntrack_button = widgets.Button(description=\"Track Exchange Rate\")\n\n# Output area\noutput = widgets.Output()\n\n# Function to track exchange rate\ndef track_exchange_rate(button):\n    with output:\n        output.clear_output()\n        \n        current_rate = start_rate.value\n        target = target_rate.value\n        day = 1\n\n        if current_rate >= target:\n            print(\"Error: Start rate must be less than target rate.\")\n            return\n        \n        print(f\"Tracking exchange rate from PKR {current_rate}/USD to PKR {target}/USD...\\n\")\n        \n        while current_rate <= target:\n            print(f\"Day {day}: Exchange Rate = PKR {current_rate}/USD\")\n            if current_rate == target:\n                print(\"Target reached! Exchange rate tracking stopped.\")\n                break\n            current_rate += 1\n            day += 1\n\n# Attach function to button click\ntrack_button.on_click(track_exchange_rate)\n\n# Display widgets\ndisplay(start_rate, target_rate, track_button, output)\n\n",
      "metadata": {
        "id": "3xiDWiabKwfr",
        "trusted": true
      },
      "outputs": [
        {
          "ename": "<class 'ModuleNotFoundError'>",
          "evalue": "No module named 'ipywidgets'",
          "traceback": [
            "\u001b[0;31m---------------------------------------------------------------------------\u001b[0m",
            "\u001b[0;31mModuleNotFoundError\u001b[0m                       Traceback (most recent call last)",
            "Cell \u001b[0;32mIn[4], line 1\u001b[0m\n\u001b[0;32m----> 1\u001b[0m \u001b[38;5;28;01mimport\u001b[39;00m \u001b[38;5;21;01mipywidgets\u001b[39;00m \u001b[38;5;28;01mas\u001b[39;00m \u001b[38;5;21;01mwidgets\u001b[39;00m\n\u001b[1;32m      2\u001b[0m \u001b[38;5;28;01mfrom\u001b[39;00m \u001b[38;5;21;01mIPython\u001b[39;00m\u001b[38;5;21;01m.\u001b[39;00m\u001b[38;5;21;01mdisplay\u001b[39;00m \u001b[38;5;28;01mimport\u001b[39;00m display\n\u001b[1;32m      4\u001b[0m \u001b[38;5;66;03m# Exchange rate input (starting value)\u001b[39;00m\n",
            "\u001b[0;31mModuleNotFoundError\u001b[0m: No module named 'ipywidgets'"
          ],
          "output_type": "error"
        }
      ],
      "execution_count": 4
    },
    {
      "cell_type": "markdown",
      "source": "*   \n*\n*   \n*   \n*   \n*\n*   \n*",
      "metadata": {
        "id": "-gpSKR0APnLP"
      }
    },
    {
      "cell_type": "markdown",
      "source": "\n\n---\n\n\n======================================== *to err is human* ========================================\n\n\n---\n\n",
      "metadata": {
        "id": "hUFnFKjmKxeH"
      }
    },
    {
      "cell_type": "markdown",
      "source": "*   \n*\n*   \n*   \n*   \n*\n*   \n*\n\n---\n\n## **🎯 Grading Rubric (20 Marks)**  \n\n| **Criteria**           | **🌟 Excellent (4 Marks)** | **✅ Good (3 Marks)** | **⚠️ Satisfactory (2 Marks)** | **❌ Needs Improvement (1 Mark)** | **🚫 No Attempt (0 Marks)** |\n|------------------------|-----------------------|------------------|----------------------|----------------------|----------------------|\n| **📝 Loan Eligibility System**  | ✅ Correct logic with `ipywidgets`, handles user input well. | ⚠️ Mostly correct logic, minor issues. | ❌ Basic logic but missing conditions. | 🚫 Major errors in implementation. | ❌ No implementation. |\n| **📊 Investment Risk Assessment**  | ✅ Efficient looping with correct risk classification and `ipywidgets`. | ⚠️ Minor issues in logic or implementation. | ❌ Some conditions missing, basic implementation. | 🚫 Incorrect or incomplete logic. | ❌ No implementation. |\n| **💰 Loan Repayment Tracker**  | ✅ Tracks repayment correctly, interactive using `ipywidgets`. | ⚠️ Correct logic but missing interactivity. | ❌ Loop present but some logic missing. | 🚫 Incorrect approach. | ❌ No implementation. |\n| **📈 Stock Price Monitoring**  | ✅ Proper use of `continue` and `break`, handles missing values. | ⚠️ Minor logic issues, mostly correct. | ❌ Some conditions missing, partially correct. | 🚫 Incorrect logic, missing key elements. | ❌ No implementation. |\n| **💹 Currency Exchange Tracker**  | ✅ Correct loop, stops at target rate, structured well with `ipywidgets`. | ⚠️ Mostly correct, minor inefficiencies. | ❌ Incorrect stopping condition, basic implementation. | 🚫 Incorrect approach. | ❌ No implementation. |\n| **📜 Code Quality & Structure**  | ✅ Well-commented, clean code, follows best practices. | ⚠️ Mostly structured but needs better readability. | ❌ Works but lacks clarity. | 🚫 Unstructured, lacks comments. | ❌ No code present. |\n| **🎛️ Use of `ipywidgets`** | ✅ Used effectively in all parts, enhances interactivity. | ⚠️ Used in most parts but minor inefficiencies. | ❌ Implemented but not fully functional. | 🚫 Attempted but not used correctly. | ❌ No implementation. |\n| **📂 GitHub Submission & Documentation** | ✅ Well-structured repo, proper `README.md`. | ⚠️ Repo exists but lacks structured documentation. | ❌ Basic submission, missing details. | 🚫 Attempted but incomplete. | ❌ No submission. |\n| **📤 Google Classroom Submission** | ✅ Submitted correctly with all required elements. | ⚠️ Submitted but missing minor details. | ❌ Late submission or incomplete. | 🚫 Attempted but missing key parts. | ❌ No submission. |\n| **🔎 Overall Implementation & Accuracy** | ✅ All features implemented correctly, runs smoothly. | ⚠️ Most features implemented, minor issues. | ❌ Some features missing but basic functionality works. | 🚫 Major features missing. | ❌ No implementation. |\n\n---\n\n",
      "metadata": {
        "id": "E2rlRDSuPPRt"
      }
    },
    {
      "cell_type": "markdown",
      "source": "*Follow the deadline. This is an individual assignment. Do not copy/paste from LLMs or from other students.*",
      "metadata": {
        "id": "-_kwwSB6PiZp"
      }
    }
  ]
}